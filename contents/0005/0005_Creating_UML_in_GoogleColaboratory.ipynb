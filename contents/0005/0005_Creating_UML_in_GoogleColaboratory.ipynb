{
  "nbformat": 4,
  "nbformat_minor": 0,
  "metadata": {
    "colab": {
      "name": "GoogleColaboratoryでPlantUMLを使ってUMLを作る.ipynb",
      "provenance": [],
      "collapsed_sections": []
    },
    "kernelspec": {
      "name": "python3",
      "display_name": "Python 3"
    }
  },
  "cells": [
    {
      "cell_type": "markdown",
      "metadata": {
        "id": "Hq6VqR7GNcK1",
        "colab_type": "text"
      },
      "source": [
        "# GoogleColaboratoryでPlantUMLを使ってUMLを作る\n",
        "\n",
        "タイトルのとおり、このnotebookではGoogleColaboratory環境に[PlantUML](https://plantuml.com/ja/)をインストールして、UMLを作成します。"
      ]
    },
    {
      "cell_type": "markdown",
      "metadata": {
        "id": "0RW3Cov5Osv0",
        "colab_type": "text"
      },
      "source": [
        "## PlantUMLのインストール"
      ]
    },
    {
      "cell_type": "markdown",
      "metadata": {
        "id": "RnsgiSNpQEuk",
        "colab_type": "text"
      },
      "source": [
        "### 環境の確認"
      ]
    },
    {
      "cell_type": "markdown",
      "metadata": {
        "id": "hwZq8-9-QGwe",
        "colab_type": "text"
      },
      "source": [
        "#### OSを確認する\n",
        "\n",
        "インストールする前に、まずはGoogleColaboratoryのOSを確認しておきます。"
      ]
    },
    {
      "cell_type": "code",
      "metadata": {
        "id": "qYEiMNorNVdg",
        "colab_type": "code",
        "colab": {
          "base_uri": "https://localhost:8080/",
          "height": 221
        },
        "outputId": "511159a0-4394-4e93-956a-5a8675303c05"
      },
      "source": [
        "!cat /etc/os-release"
      ],
      "execution_count": 1,
      "outputs": [
        {
          "output_type": "stream",
          "text": [
            "NAME=\"Ubuntu\"\n",
            "VERSION=\"18.04.3 LTS (Bionic Beaver)\"\n",
            "ID=ubuntu\n",
            "ID_LIKE=debian\n",
            "PRETTY_NAME=\"Ubuntu 18.04.3 LTS\"\n",
            "VERSION_ID=\"18.04\"\n",
            "HOME_URL=\"https://www.ubuntu.com/\"\n",
            "SUPPORT_URL=\"https://help.ubuntu.com/\"\n",
            "BUG_REPORT_URL=\"https://bugs.launchpad.net/ubuntu/\"\n",
            "PRIVACY_POLICY_URL=\"https://www.ubuntu.com/legal/terms-and-policies/privacy-policy\"\n",
            "VERSION_CODENAME=bionic\n",
            "UBUNTU_CODENAME=bionic\n"
          ],
          "name": "stdout"
        }
      ]
    },
    {
      "cell_type": "markdown",
      "metadata": {
        "id": "vUiJ9ZSePAmw",
        "colab_type": "text"
      },
      "source": [
        "コマンドの実行結果から、Ubuntu 18.04.3 LTSということがわかります。"
      ]
    },
    {
      "cell_type": "markdown",
      "metadata": {
        "id": "V1ChhPbcPXkm",
        "colab_type": "text"
      },
      "source": [
        "#### Javaがインストールされているか確認する\n",
        "\n",
        "PlantUMLの実行にはJavaが必要なので、GoogleColaboratory環境にインストールされているか確認します。"
      ]
    },
    {
      "cell_type": "code",
      "metadata": {
        "id": "l4a9AWriNmiI",
        "colab_type": "code",
        "colab": {
          "base_uri": "https://localhost:8080/",
          "height": 34
        },
        "outputId": "f09b524a-aa36-44d1-c9ff-95974b659b60"
      },
      "source": [
        "!which java"
      ],
      "execution_count": 2,
      "outputs": [
        {
          "output_type": "stream",
          "text": [
            "/usr/bin/java\n"
          ],
          "name": "stdout"
        }
      ]
    },
    {
      "cell_type": "markdown",
      "metadata": {
        "id": "EPIvl3JoPs7S",
        "colab_type": "text"
      },
      "source": [
        "どうやらインストールされているようです。ちなみにバージョンは、"
      ]
    },
    {
      "cell_type": "code",
      "metadata": {
        "id": "oHhIbz9WPOM6",
        "colab_type": "code",
        "colab": {
          "base_uri": "https://localhost:8080/",
          "height": 68
        },
        "outputId": "77100487-5b4c-4871-cfca-ddd5286429d7"
      },
      "source": [
        "!java --version"
      ],
      "execution_count": 3,
      "outputs": [
        {
          "output_type": "stream",
          "text": [
            "openjdk 11.0.6 2020-01-14\n",
            "OpenJDK Runtime Environment (build 11.0.6+10-post-Ubuntu-1ubuntu118.04.1)\n",
            "OpenJDK 64-Bit Server VM (build 11.0.6+10-post-Ubuntu-1ubuntu118.04.1, mixed mode, sharing)\n"
          ],
          "name": "stdout"
        }
      ]
    },
    {
      "cell_type": "markdown",
      "metadata": {
        "id": "NE77sZP_P3es",
        "colab_type": "text"
      },
      "source": [
        "OpenJDKの11.0.6のようです。"
      ]
    },
    {
      "cell_type": "markdown",
      "metadata": {
        "id": "4MGiaSp7QPDw",
        "colab_type": "text"
      },
      "source": [
        "### PlantUMLをインストールする\n",
        "\n",
        "sourceforgeでホストされているplantumlのjarファイルを`/usr/loca/bin`へインストールします"
      ]
    },
    {
      "cell_type": "code",
      "metadata": {
        "id": "dGZBUiz7Pz3m",
        "colab_type": "code",
        "colab": {
          "base_uri": "https://localhost:8080/",
          "height": 119
        },
        "outputId": "23f55e7e-7779-49e8-b99a-0f6b7cccb13c"
      },
      "source": [
        "!curl -L -o /usr/local/bin/plantuml.jar http://sourceforge.net/projects/plantuml/files/plantuml.jar/download"
      ],
      "execution_count": 4,
      "outputs": [
        {
          "output_type": "stream",
          "text": [
            "  % Total    % Received % Xferd  Average Speed   Time    Time     Time  Current\n",
            "                                 Dload  Upload   Total   Spent    Left  Speed\n",
            "100   178  100   178    0     0   1028      0 --:--:-- --:--:-- --:--:--  1028\n",
            "100 21190  100 21190    0     0  35854      0 --:--:-- --:--:-- --:--:-- 82773\n",
            "100   313  100   313    0     0    332      0 --:--:-- --:--:-- --:--:--   332\n",
            "100 8358k  100 8358k    0     0  6187k      0  0:00:01  0:00:01 --:--:--  100M\n"
          ],
          "name": "stdout"
        }
      ]
    },
    {
      "cell_type": "markdown",
      "metadata": {
        "id": "2E8xq7bCRDSi",
        "colab_type": "text"
      },
      "source": [
        "`ls`コマンドで確認しておきます"
      ]
    },
    {
      "cell_type": "code",
      "metadata": {
        "id": "__hV0T_FQ06g",
        "colab_type": "code",
        "colab": {
          "base_uri": "https://localhost:8080/",
          "height": 34
        },
        "outputId": "9ad5da1b-53da-4555-c0fb-7ea3b660f36f"
      },
      "source": [
        "!ls -la /usr/local/bin/plant*"
      ],
      "execution_count": 6,
      "outputs": [
        {
          "output_type": "stream",
          "text": [
            "-rw-r--r-- 1 root root 8559351 Apr 30 13:25 /usr/local/bin/plantuml.jar\n"
          ],
          "name": "stdout"
        }
      ]
    },
    {
      "cell_type": "markdown",
      "metadata": {
        "id": "t_WUN4gTRARZ",
        "colab_type": "text"
      },
      "source": [
        "インストールできました。"
      ]
    },
    {
      "cell_type": "markdown",
      "metadata": {
        "id": "rhAHF7fBRLD7",
        "colab_type": "text"
      },
      "source": [
        "### graphvizをインストール\n",
        "\n",
        "シーケンス図・アクティビティ図以外のダイアグラムを作成する場合はGraphvizも必要なので、インストールしておきます。"
      ]
    },
    {
      "cell_type": "code",
      "metadata": {
        "id": "8stzCRbuQ5He",
        "colab_type": "code",
        "colab": {
          "base_uri": "https://localhost:8080/",
          "height": 102
        },
        "outputId": "00b1611c-a669-414d-c55d-6847921d25df"
      },
      "source": [
        "!sudo apt-get install -y graphviz"
      ],
      "execution_count": 7,
      "outputs": [
        {
          "output_type": "stream",
          "text": [
            "Reading package lists... Done\n",
            "Building dependency tree       \n",
            "Reading state information... Done\n",
            "graphviz is already the newest version (2.40.1-2).\n",
            "0 upgraded, 0 newly installed, 0 to remove and 25 not upgraded.\n"
          ],
          "name": "stdout"
        }
      ]
    },
    {
      "cell_type": "markdown",
      "metadata": {
        "id": "BDDoeJvUSAAI",
        "colab_type": "text"
      },
      "source": [
        "### IPlantUMLをインストール\n",
        "\n",
        "GoogleColatobatoryにPlantUMLのセルマジックを追加し、インラインSVGとして生成できるように、IPlantUMLもインストールします"
      ]
    },
    {
      "cell_type": "code",
      "metadata": {
        "id": "35pRohqNRqtP",
        "colab_type": "code",
        "colab": {
          "base_uri": "https://localhost:8080/",
          "height": 343
        },
        "outputId": "38c97cbe-1282-4b93-b40c-1db4ec82a6f1"
      },
      "source": [
        "!sudo pip install iplantuml"
      ],
      "execution_count": 8,
      "outputs": [
        {
          "output_type": "stream",
          "text": [
            "Collecting iplantuml\n",
            "  Downloading https://files.pythonhosted.org/packages/10/b9/4db9b9ce81184d1d67f82284ca6131258b32f3f69376ee88aab5f7ff60a4/IPlantUML-0.1.1.tar.gz\n",
            "Collecting plantweb\n",
            "  Downloading https://files.pythonhosted.org/packages/d6/6f/9ab1a1c3e33aaa0c0931983578c09336b092c75dce777ea666d3032f756e/plantweb-1.2.1-py3-none-any.whl\n",
            "Requirement already satisfied: six in /usr/local/lib/python3.6/dist-packages (from plantweb->iplantuml) (1.12.0)\n",
            "Requirement already satisfied: docutils in /usr/local/lib/python3.6/dist-packages (from plantweb->iplantuml) (0.15.2)\n",
            "Requirement already satisfied: requests in /usr/local/lib/python3.6/dist-packages (from plantweb->iplantuml) (2.21.0)\n",
            "Requirement already satisfied: chardet<3.1.0,>=3.0.2 in /usr/local/lib/python3.6/dist-packages (from requests->plantweb->iplantuml) (3.0.4)\n",
            "Requirement already satisfied: certifi>=2017.4.17 in /usr/local/lib/python3.6/dist-packages (from requests->plantweb->iplantuml) (2020.4.5.1)\n",
            "Requirement already satisfied: urllib3<1.25,>=1.21.1 in /usr/local/lib/python3.6/dist-packages (from requests->plantweb->iplantuml) (1.24.3)\n",
            "Requirement already satisfied: idna<2.9,>=2.5 in /usr/local/lib/python3.6/dist-packages (from requests->plantweb->iplantuml) (2.8)\n",
            "Building wheels for collected packages: iplantuml\n",
            "  Building wheel for iplantuml (setup.py) ... \u001b[?25l\u001b[?25hdone\n",
            "  Created wheel for iplantuml: filename=IPlantUML-0.1.1-py2.py3-none-any.whl size=4897 sha256=afc5be23c60bc3f2596072cd6ef33d2658197b2fcf0e08b9f8d81da62ca9582a\n",
            "  Stored in directory: /root/.cache/pip/wheels/98/e3/22/5474b6852d1717733862688fe1d1470f749f1fe7ae0d508ce7\n",
            "Successfully built iplantuml\n",
            "Installing collected packages: plantweb, iplantuml\n",
            "Successfully installed iplantuml-0.1.1 plantweb-1.2.1\n"
          ],
          "name": "stdout"
        }
      ]
    },
    {
      "cell_type": "markdown",
      "metadata": {
        "id": "gGs9DW9aSgP-",
        "colab_type": "text"
      },
      "source": [
        ""
      ]
    },
    {
      "cell_type": "markdown",
      "metadata": {
        "id": "jDwszhwyS7kc",
        "colab_type": "text"
      },
      "source": [
        "## ダイアグラムをnotebookのインラインSVGとして作成する\n",
        "\n",
        "環境が整ったので、iplantumlを使って、notebookに埋め込まれた形のUMLを作成してみます。"
      ]
    },
    {
      "cell_type": "code",
      "metadata": {
        "id": "qX7p9nqYSXoX",
        "colab_type": "code",
        "colab": {}
      },
      "source": [
        "import iplantuml"
      ],
      "execution_count": 0,
      "outputs": []
    },
    {
      "cell_type": "code",
      "metadata": {
        "id": "McLCBgMWS0A4",
        "colab_type": "code",
        "colab": {
          "base_uri": "https://localhost:8080/",
          "height": 271
        },
        "outputId": "ace2a85e-ad68-49a2-cb61-6b245bfc375a"
      },
      "source": [
        "%%plantuml\n",
        "@startuml\n",
        "Title シーケンス図\n",
        "Alice -> Bob: Authentication Request\n",
        "Bob --> Alice: Authentication Response\n",
        "\n",
        "Alice -> Bob: Another authentication Request\n",
        "Alice <-- Bob: another authentication Response\n",
        "@enduml"
      ],
      "execution_count": 11,
      "outputs": [
        {
          "output_type": "execute_result",
          "data": {
            "text/plain": [
              "<IPython.core.display.SVG object>"
            ],
            "image/svg+xml": "<svg contentScriptType=\"application/ecmascript\" contentStyleType=\"text/css\" height=\"250px\" preserveAspectRatio=\"none\" style=\"width:304px;height:250px;\" version=\"1.1\" viewBox=\"0 0 304 250\" width=\"304px\" xmlns=\"http://www.w3.org/2000/svg\" xmlns:xlink=\"http://www.w3.org/1999/xlink\" zoomAndPan=\"magnify\"><defs><filter height=\"300%\" id=\"fphxmg53juilv\" width=\"300%\" x=\"-1\" y=\"-1\"><feGaussianBlur result=\"blurOut\" stdDeviation=\"2.0\"/><feColorMatrix in=\"blurOut\" result=\"blurOut2\" type=\"matrix\" values=\"0 0 0 0 0 0 0 0 0 0 0 0 0 0 0 0 0 0 .4 0\"/><feOffset dx=\"4.0\" dy=\"4.0\" in=\"blurOut2\" result=\"blurOut3\"/><feBlend in=\"SourceGraphic\" in2=\"blurOut3\" mode=\"normal\"/></filter></defs><g><text fill=\"#000000\" font-family=\"sans-serif\" font-size=\"18\" lengthAdjust=\"spacingAndGlyphs\" textLength=\"108\" x=\"98.5\" y=\"26.708\">シーケンス図</text><line style=\"stroke: #A80036; stroke-width: 1.0; stroke-dasharray: 5.0,5.0;\" x1=\"33\" x2=\"33\" y1=\"73.25\" y2=\"209.7813\"/><line style=\"stroke: #A80036; stroke-width: 1.0; stroke-dasharray: 5.0,5.0;\" x1=\"274\" x2=\"274\" y1=\"73.25\" y2=\"209.7813\"/><rect fill=\"#FEFECE\" filter=\"url(#fphxmg53juilv)\" height=\"30.2969\" style=\"stroke: #A80036; stroke-width: 1.5;\" width=\"47\" x=\"8\" y=\"37.9531\"/><text fill=\"#000000\" font-family=\"sans-serif\" font-size=\"14\" lengthAdjust=\"spacingAndGlyphs\" textLength=\"33\" x=\"15\" y=\"57.9482\">Alice</text><rect fill=\"#FEFECE\" filter=\"url(#fphxmg53juilv)\" height=\"30.2969\" style=\"stroke: #A80036; stroke-width: 1.5;\" width=\"47\" x=\"8\" y=\"208.7813\"/><text fill=\"#000000\" font-family=\"sans-serif\" font-size=\"14\" lengthAdjust=\"spacingAndGlyphs\" textLength=\"33\" x=\"15\" y=\"228.7764\">Alice</text><rect fill=\"#FEFECE\" filter=\"url(#fphxmg53juilv)\" height=\"30.2969\" style=\"stroke: #A80036; stroke-width: 1.5;\" width=\"41\" x=\"252\" y=\"37.9531\"/><text fill=\"#000000\" font-family=\"sans-serif\" font-size=\"14\" lengthAdjust=\"spacingAndGlyphs\" textLength=\"27\" x=\"259\" y=\"57.9482\">Bob</text><rect fill=\"#FEFECE\" filter=\"url(#fphxmg53juilv)\" height=\"30.2969\" style=\"stroke: #A80036; stroke-width: 1.5;\" width=\"41\" x=\"252\" y=\"208.7813\"/><text fill=\"#000000\" font-family=\"sans-serif\" font-size=\"14\" lengthAdjust=\"spacingAndGlyphs\" textLength=\"27\" x=\"259\" y=\"228.7764\">Bob</text><polygon fill=\"#A80036\" points=\"262.5,100.3828,272.5,104.3828,262.5,108.3828,266.5,104.3828\" style=\"stroke: #A80036; stroke-width: 1.0;\"/><line style=\"stroke: #A80036; stroke-width: 1.0;\" x1=\"33.5\" x2=\"268.5\" y1=\"104.3828\" y2=\"104.3828\"/><text fill=\"#000000\" font-family=\"sans-serif\" font-size=\"13\" lengthAdjust=\"spacingAndGlyphs\" textLength=\"153\" x=\"40.5\" y=\"99.3169\">Authentication Request</text><polygon fill=\"#A80036\" points=\"44.5,129.5156,34.5,133.5156,44.5,137.5156,40.5,133.5156\" style=\"stroke: #A80036; stroke-width: 1.0;\"/><line style=\"stroke: #A80036; stroke-width: 1.0; stroke-dasharray: 2.0,2.0;\" x1=\"38.5\" x2=\"273.5\" y1=\"133.5156\" y2=\"133.5156\"/><text fill=\"#000000\" font-family=\"sans-serif\" font-size=\"13\" lengthAdjust=\"spacingAndGlyphs\" textLength=\"163\" x=\"50.5\" y=\"128.4497\">Authentication Response</text><polygon fill=\"#A80036\" points=\"262.5,158.6484,272.5,162.6484,262.5,166.6484,266.5,162.6484\" style=\"stroke: #A80036; stroke-width: 1.0;\"/><line style=\"stroke: #A80036; stroke-width: 1.0;\" x1=\"33.5\" x2=\"268.5\" y1=\"162.6484\" y2=\"162.6484\"/><text fill=\"#000000\" font-family=\"sans-serif\" font-size=\"13\" lengthAdjust=\"spacingAndGlyphs\" textLength=\"208\" x=\"40.5\" y=\"157.5825\">Another authentication Request</text><polygon fill=\"#A80036\" points=\"44.5,187.7813,34.5,191.7813,44.5,195.7813,40.5,191.7813\" style=\"stroke: #A80036; stroke-width: 1.0;\"/><line style=\"stroke: #A80036; stroke-width: 1.0; stroke-dasharray: 2.0,2.0;\" x1=\"38.5\" x2=\"273.5\" y1=\"191.7813\" y2=\"191.7813\"/><text fill=\"#000000\" font-family=\"sans-serif\" font-size=\"13\" lengthAdjust=\"spacingAndGlyphs\" textLength=\"217\" x=\"50.5\" y=\"186.7153\">another authentication Response</text><!--MD5=[64d065ff611c1c0ec54d38016efb77c6]\n@startuml\nTitle シーケンス図\nAlice -> Bob: Authentication Request\nBob - -> Alice: Authentication Response\n\nAlice -> Bob: Another authentication Request\nAlice <- - Bob: another authentication Response\n@enduml\n\nPlantUML version 1.2020.09beta11(Unknown compile time)\n(GPL source distribution)\nJava Runtime: Java(TM) SE Runtime Environment\nJVM: Java HotSpot(TM) 64-Bit Server VM\nJava Version: 14.0.1+7\nOperating System: Linux\nDefault Encoding: UTF-8\nLanguage: en\nCountry: US\n--></g></svg>"
          },
          "metadata": {
            "tags": []
          },
          "execution_count": 11
        }
      ]
    },
    {
      "cell_type": "markdown",
      "metadata": {
        "id": "2LUWSeQxTZLt",
        "colab_type": "text"
      },
      "source": [
        "できました。\n",
        "\n",
        "[PlantUML言語リファレンスガイド](http://plantuml.com/ja/guide)\n",
        " に記載されている各ダイアグラムの文法に従えば、シーケンス図以外のダイアグラムも作成できます。"
      ]
    },
    {
      "cell_type": "markdown",
      "metadata": {
        "id": "HhpvKfO8T2gm",
        "colab_type": "text"
      },
      "source": [
        "## テキストとダイアグラムをファイルとして作成する\n",
        "\n",
        "PlantUMLのテキストや、そこから生成したダイアグラムをファイルとして保存したい場合には、以下のようにします。\n"
      ]
    },
    {
      "cell_type": "markdown",
      "metadata": {
        "id": "KfrtbpDlVEZJ",
        "colab_type": "text"
      },
      "source": [
        "### PantUMLのテキストファイルを作成する\n",
        "\n",
        "wfitefileマジックコマンドを使って、PlantUMLのテキストを、`plantuml.uml`という名前で保存します。"
      ]
    },
    {
      "cell_type": "code",
      "metadata": {
        "id": "BgSyVAZZS2Ym",
        "colab_type": "code",
        "colab": {
          "base_uri": "https://localhost:8080/",
          "height": 34
        },
        "outputId": "ae4d827d-9939-4ffc-af13-64a2042f1caf"
      },
      "source": [
        "%%writefile plantuml.uml\n",
        "\n",
        "@startuml\n",
        "Title sequence diagram\n",
        "Alice -> Bob: Authentication Request\n",
        "Bob --> Alice: Authentication Response\n",
        "\n",
        "Alice -> Bob: Another authentication Request\n",
        "Alice <-- Bob: another authentication Response\n",
        "@enduml"
      ],
      "execution_count": 21,
      "outputs": [
        {
          "output_type": "stream",
          "text": [
            "Overwriting plantuml.uml\n"
          ],
          "name": "stdout"
        }
      ]
    },
    {
      "cell_type": "markdown",
      "metadata": {
        "id": "IdnyXv_DV0jR",
        "colab_type": "text"
      },
      "source": [
        "ファイルができているか確認します。"
      ]
    },
    {
      "cell_type": "code",
      "metadata": {
        "id": "ihvhjuacVV5n",
        "colab_type": "code",
        "colab": {
          "base_uri": "https://localhost:8080/",
          "height": 85
        },
        "outputId": "8715c9f9-367a-42ec-94fa-ce92913b0e0a"
      },
      "source": [
        "!ls -l"
      ],
      "execution_count": 22,
      "outputs": [
        {
          "output_type": "stream",
          "text": [
            "total 16\n",
            "-rw-r--r-- 1 root root 8171 Apr 30 13:51 plantuml.png\n",
            "-rw-r--r-- 1 root root  210 Apr 30 13:54 plantuml.uml\n",
            "drwxr-xr-x 1 root root 4096 Apr  3 16:24 sample_data\n"
          ],
          "name": "stdout"
        }
      ]
    },
    {
      "cell_type": "markdown",
      "metadata": {
        "id": "RZbWIidHV3l-",
        "colab_type": "text"
      },
      "source": [
        "できていました。"
      ]
    },
    {
      "cell_type": "markdown",
      "metadata": {
        "id": "aWvG57YXWHUR",
        "colab_type": "text"
      },
      "source": [
        "### テキストファイルから画像を生成する\n",
        "\n",
        "plantuml.jarを実行して、画像を生成します。"
      ]
    },
    {
      "cell_type": "code",
      "metadata": {
        "id": "CRbwQsHZVW-z",
        "colab_type": "code",
        "colab": {}
      },
      "source": [
        "!java -jar /usr/local/bin/plantuml.jar plantuml.uml"
      ],
      "execution_count": 0,
      "outputs": []
    },
    {
      "cell_type": "markdown",
      "metadata": {
        "id": "3wWUY64NW8Pq",
        "colab_type": "text"
      },
      "source": [
        "正常終了するとアウトプットセルには何も出力されません。\n",
        "\n",
        "`ls`コマンドで画像ファイルができているか確認します。"
      ]
    },
    {
      "cell_type": "code",
      "metadata": {
        "id": "4GLS2ExvWwPm",
        "colab_type": "code",
        "colab": {
          "base_uri": "https://localhost:8080/",
          "height": 85
        },
        "outputId": "bc3d1788-979e-4f6f-c0c0-8ead07ae6fac"
      },
      "source": [
        "!ls -l"
      ],
      "execution_count": 24,
      "outputs": [
        {
          "output_type": "stream",
          "text": [
            "total 20\n",
            "-rw-r--r-- 1 root root 9888 Apr 30 13:54 plantuml.png\n",
            "-rw-r--r-- 1 root root  210 Apr 30 13:54 plantuml.uml\n",
            "drwxr-xr-x 1 root root 4096 Apr  3 16:24 sample_data\n"
          ],
          "name": "stdout"
        }
      ]
    },
    {
      "cell_type": "markdown",
      "metadata": {
        "id": "A-mWo15dXIGs",
        "colab_type": "text"
      },
      "source": [
        "できていました。\n",
        "\n",
        "notebookに読み込んで確認してみます。"
      ]
    },
    {
      "cell_type": "code",
      "metadata": {
        "id": "YhyWnqaUXG62",
        "colab_type": "code",
        "colab": {
          "base_uri": "https://localhost:8080/",
          "height": 263
        },
        "outputId": "a9eda7ad-adbc-4d83-8a19-bb8dc57e0031"
      },
      "source": [
        "from IPython.display import Image\n",
        "Image(\"./plantuml.png\")"
      ],
      "execution_count": 25,
      "outputs": [
        {
          "output_type": "execute_result",
          "data": {
            "image/png": "[encoded data removed]",
            "text/plain": [
              "<IPython.core.display.Image object>"
            ]
          },
          "metadata": {
            "tags": []
          },
          "execution_count": 25
        }
      ]
    },
    {
      "cell_type": "markdown",
      "metadata": {
        "id": "UNARmEEDXlhW",
        "colab_type": "text"
      },
      "source": [
        "意図した通りの図になっています。\n",
        "\n",
        "GoogleDriveのフォルダをColaboratory環境にマウントすれば、ここで作成したファイルをGoogleDriveへ直接保存することができます。"
      ]
    }
  ]
}